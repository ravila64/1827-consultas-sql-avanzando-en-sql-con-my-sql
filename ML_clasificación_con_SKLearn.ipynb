{
  "nbformat": 4,
  "nbformat_minor": 0,
  "metadata": {
    "colab": {
      "provenance": [],
      "authorship_tag": "ABX9TyPBEq+4k1TZQAA4hPtryCIu",
      "include_colab_link": true
    },
    "kernelspec": {
      "name": "python3",
      "display_name": "Python 3"
    },
    "language_info": {
      "name": "python"
    }
  },
  "cells": [
    {
      "cell_type": "markdown",
      "metadata": {
        "id": "view-in-github",
        "colab_type": "text"
      },
      "source": [
        "<a href=\"https://colab.research.google.com/github/ravila64/1827-consultas-sql-avanzando-en-sql-con-my-sql/blob/main/ML_clasificaci%C3%B3n_con_SKLearn.ipynb\" target=\"_parent\"><img src=\"https://colab.research.google.com/assets/colab-badge.svg\" alt=\"Open In Colab\"/></a>"
      ]
    },
    {
      "cell_type": "markdown",
      "source": [
        "# Machine learning - clasificacion con SKLearn"
      ],
      "metadata": {
        "id": "GiQegRYtNLBT"
      }
    },
    {
      "cell_type": "markdown",
      "source": [
        "# Aula 1-introduccion a la clasificación"
      ],
      "metadata": {
        "id": "F0mktFfF9cY9"
      }
    },
    {
      "cell_type": "code",
      "execution_count": null,
      "metadata": {
        "id": "XqSb9xaeM7Af"
      },
      "outputs": [],
      "source": [
        "#features 1=si 0=no\n",
        "perro1=[0,1,1]\n",
        "perro2=[1,0,1]\n",
        "perro3=[1,1,1]\n",
        "\n",
        "gato1=[0,1,0]\n",
        "gato2=[0,1,1]\n",
        "gato3=[1,1,0]\n",
        "x_train=[perro1, perro2, perro3, gato1, gato2, gato3]\n",
        "y_train=[1,1,1,0,0,0]\n"
      ]
    },
    {
      "cell_type": "code",
      "source": [
        "print(x_train)\n"
      ],
      "metadata": {
        "id": "BdDth129Acca",
        "colab": {
          "base_uri": "https://localhost:8080/"
        },
        "outputId": "cb8ef9e6-7396-4e8b-c5a8-7adc3d28ebda"
      },
      "execution_count": null,
      "outputs": [
        {
          "output_type": "stream",
          "name": "stdout",
          "text": [
            "[[0, 1, 1], [1, 0, 1], [1, 1, 1], [0, 1, 0], [0, 1, 1], [1, 1, 0]]\n"
          ]
        }
      ]
    },
    {
      "cell_type": "code",
      "source": [
        "print(y_train)\n"
      ],
      "metadata": {
        "id": "toEoHcU-Afbn",
        "colab": {
          "base_uri": "https://localhost:8080/"
        },
        "outputId": "0a21169a-44b9-4c27-eb3d-00b13b23a3a6"
      },
      "execution_count": null,
      "outputs": [
        {
          "output_type": "stream",
          "name": "stdout",
          "text": [
            "[1, 1, 1, 0, 0, 0]\n"
          ]
        }
      ]
    },
    {
      "cell_type": "code",
      "source": [
        "# libreria sklearn\n",
        "from sklearn.svm import LinearSVC\n",
        "model=LinearSVC()\n",
        "model.fit(x_train, y_train)\n",
        "#LinearSVC()\n"
      ],
      "metadata": {
        "id": "oM5svx2gAoJP",
        "colab": {
          "base_uri": "https://localhost:8080/"
        },
        "outputId": "2212f305-0e0b-4d29-a3cd-685566a9a1a6"
      },
      "execution_count": null,
      "outputs": [
        {
          "output_type": "execute_result",
          "data": {
            "text/plain": [
              "LinearSVC()"
            ],
            "text/html": [
              "<style>#sk-container-id-1 {color: black;background-color: white;}#sk-container-id-1 pre{padding: 0;}#sk-container-id-1 div.sk-toggleable {background-color: white;}#sk-container-id-1 label.sk-toggleable__label {cursor: pointer;display: block;width: 100%;margin-bottom: 0;padding: 0.3em;box-sizing: border-box;text-align: center;}#sk-container-id-1 label.sk-toggleable__label-arrow:before {content: \"▸\";float: left;margin-right: 0.25em;color: #696969;}#sk-container-id-1 label.sk-toggleable__label-arrow:hover:before {color: black;}#sk-container-id-1 div.sk-estimator:hover label.sk-toggleable__label-arrow:before {color: black;}#sk-container-id-1 div.sk-toggleable__content {max-height: 0;max-width: 0;overflow: hidden;text-align: left;background-color: #f0f8ff;}#sk-container-id-1 div.sk-toggleable__content pre {margin: 0.2em;color: black;border-radius: 0.25em;background-color: #f0f8ff;}#sk-container-id-1 input.sk-toggleable__control:checked~div.sk-toggleable__content {max-height: 200px;max-width: 100%;overflow: auto;}#sk-container-id-1 input.sk-toggleable__control:checked~label.sk-toggleable__label-arrow:before {content: \"▾\";}#sk-container-id-1 div.sk-estimator input.sk-toggleable__control:checked~label.sk-toggleable__label {background-color: #d4ebff;}#sk-container-id-1 div.sk-label input.sk-toggleable__control:checked~label.sk-toggleable__label {background-color: #d4ebff;}#sk-container-id-1 input.sk-hidden--visually {border: 0;clip: rect(1px 1px 1px 1px);clip: rect(1px, 1px, 1px, 1px);height: 1px;margin: -1px;overflow: hidden;padding: 0;position: absolute;width: 1px;}#sk-container-id-1 div.sk-estimator {font-family: monospace;background-color: #f0f8ff;border: 1px dotted black;border-radius: 0.25em;box-sizing: border-box;margin-bottom: 0.5em;}#sk-container-id-1 div.sk-estimator:hover {background-color: #d4ebff;}#sk-container-id-1 div.sk-parallel-item::after {content: \"\";width: 100%;border-bottom: 1px solid gray;flex-grow: 1;}#sk-container-id-1 div.sk-label:hover label.sk-toggleable__label {background-color: #d4ebff;}#sk-container-id-1 div.sk-serial::before {content: \"\";position: absolute;border-left: 1px solid gray;box-sizing: border-box;top: 0;bottom: 0;left: 50%;z-index: 0;}#sk-container-id-1 div.sk-serial {display: flex;flex-direction: column;align-items: center;background-color: white;padding-right: 0.2em;padding-left: 0.2em;position: relative;}#sk-container-id-1 div.sk-item {position: relative;z-index: 1;}#sk-container-id-1 div.sk-parallel {display: flex;align-items: stretch;justify-content: center;background-color: white;position: relative;}#sk-container-id-1 div.sk-item::before, #sk-container-id-1 div.sk-parallel-item::before {content: \"\";position: absolute;border-left: 1px solid gray;box-sizing: border-box;top: 0;bottom: 0;left: 50%;z-index: -1;}#sk-container-id-1 div.sk-parallel-item {display: flex;flex-direction: column;z-index: 1;position: relative;background-color: white;}#sk-container-id-1 div.sk-parallel-item:first-child::after {align-self: flex-end;width: 50%;}#sk-container-id-1 div.sk-parallel-item:last-child::after {align-self: flex-start;width: 50%;}#sk-container-id-1 div.sk-parallel-item:only-child::after {width: 0;}#sk-container-id-1 div.sk-dashed-wrapped {border: 1px dashed gray;margin: 0 0.4em 0.5em 0.4em;box-sizing: border-box;padding-bottom: 0.4em;background-color: white;}#sk-container-id-1 div.sk-label label {font-family: monospace;font-weight: bold;display: inline-block;line-height: 1.2em;}#sk-container-id-1 div.sk-label-container {text-align: center;}#sk-container-id-1 div.sk-container {/* jupyter's `normalize.less` sets `[hidden] { display: none; }` but bootstrap.min.css set `[hidden] { display: none !important; }` so we also need the `!important` here to be able to override the default hidden behavior on the sphinx rendered scikit-learn.org. See: https://github.com/scikit-learn/scikit-learn/issues/21755 */display: inline-block !important;position: relative;}#sk-container-id-1 div.sk-text-repr-fallback {display: none;}</style><div id=\"sk-container-id-1\" class=\"sk-top-container\"><div class=\"sk-text-repr-fallback\"><pre>LinearSVC()</pre><b>In a Jupyter environment, please rerun this cell to show the HTML representation or trust the notebook. <br />On GitHub, the HTML representation is unable to render, please try loading this page with nbviewer.org.</b></div><div class=\"sk-container\" hidden><div class=\"sk-item\"><div class=\"sk-estimator sk-toggleable\"><input class=\"sk-toggleable__control sk-hidden--visually\" id=\"sk-estimator-id-1\" type=\"checkbox\" checked><label for=\"sk-estimator-id-1\" class=\"sk-toggleable__label sk-toggleable__label-arrow\">LinearSVC</label><div class=\"sk-toggleable__content\"><pre>LinearSVC()</pre></div></div></div></div></div>"
            ]
          },
          "metadata": {},
          "execution_count": 4
        }
      ]
    },
    {
      "cell_type": "code",
      "source": [
        "misterioso=[1,1,1]\n",
        "model.predict([misterioso])\n"
      ],
      "metadata": {
        "id": "LAet3zHQCcc9",
        "colab": {
          "base_uri": "https://localhost:8080/"
        },
        "outputId": "4b07febe-4f0e-46ff-b783-58dc034cafec"
      },
      "execution_count": null,
      "outputs": [
        {
          "output_type": "execute_result",
          "data": {
            "text/plain": [
              "array([1])"
            ]
          },
          "metadata": {},
          "execution_count": 5
        }
      ]
    },
    {
      "cell_type": "code",
      "source": [
        "misterio1=[1,1,1]\n",
        "misterio2=[1,1,0]\n",
        "misterio3=[0,1,1]\n",
        "x_test = [misterio1,misterio2,misterio3]\n",
        "y_test=[0,1,1]\n"
      ],
      "metadata": {
        "id": "aRiAHY7bCpHK"
      },
      "execution_count": null,
      "outputs": []
    },
    {
      "cell_type": "code",
      "source": [
        "previsiones=model.predict(x_test)\n"
      ],
      "metadata": {
        "id": "nmnIAKCTDbb5"
      },
      "execution_count": null,
      "outputs": []
    },
    {
      "cell_type": "code",
      "source": [
        "correctos=(previsiones==y_test).sum()\n",
        "total = len(x_test)\n",
        "tasa_acierto = correctos / total\n",
        "print(f'La tasa de acierto fue de :{round(tasa_acierto*100,2)}%' )\n"
      ],
      "metadata": {
        "id": "to5ieWc_Disy",
        "colab": {
          "base_uri": "https://localhost:8080/"
        },
        "outputId": "27772e87-2a65-4424-b3ae-0df976f6b075"
      },
      "execution_count": null,
      "outputs": [
        {
          "output_type": "stream",
          "name": "stdout",
          "text": [
            "La tasa de acierto fue de :33.33%\n"
          ]
        }
      ]
    },
    {
      "cell_type": "code",
      "source": [
        "#hacer el mismo proceso con la libreria sklearn.metrics\n",
        "from sklearn.metrics import accuracy_score\n",
        "tasa_acierto=accuracy_score(y_test, previsiones)\n",
        "print(f'La tasa de acierto fue de :{round(tasa_acierto*100,2)}%' )\n"
      ],
      "metadata": {
        "colab": {
          "base_uri": "https://localhost:8080/"
        },
        "id": "VOXiee36Ek71",
        "outputId": "225b859c-a768-4f01-adcb-95ecf9b0ef53"
      },
      "execution_count": null,
      "outputs": [
        {
          "output_type": "stream",
          "name": "stdout",
          "text": [
            "La tasa de acierto fue de :33.33%\n"
          ]
        }
      ]
    },
    {
      "cell_type": "markdown",
      "source": [
        "#Aula 2: Pruebas replicables, estratificación, lectura de datos de internet."
      ],
      "metadata": {
        "id": "TOLswOLyWlSp"
      }
    },
    {
      "cell_type": "code",
      "source": [
        "import pandas as pd\n",
        "#uri='direccion donde esta la tabla de excel separada por comas'\n",
        "uri='tracking.csv'\n",
        "datos=pd.read_csv(uri)\n",
        "datos.sample(5)\n"
      ],
      "metadata": {
        "id": "l25hJ0DgT_9Y"
      },
      "execution_count": null,
      "outputs": []
    },
    {
      "cell_type": "code",
      "source": [
        "#creamos un dict con los campops a renombrar\n",
        "mapa={\n",
        "    \"home\":\"principal\",\n",
        "    \"how_it_works\":\"como_trabaja\",\n",
        "    \"contact\":\"contacto\",\n",
        "    \"bought\":\"compro\"\n",
        "}"
      ],
      "metadata": {
        "id": "MzPlj7XX-Ydg"
      },
      "execution_count": null,
      "outputs": []
    },
    {
      "cell_type": "code",
      "source": [
        "#renombrar las columnas\n",
        "datos=datos.rename(columns=mapa)\n",
        "datos.sample(3)  #maneja 3 filas aleatorias\n",
        "#datos.head()  #este lista las 5 primeras filas\n"
      ],
      "metadata": {
        "id": "2-oOjSy5-gZF"
      },
      "execution_count": null,
      "outputs": []
    },
    {
      "cell_type": "code",
      "source": [
        "x=datos[['principal','como_trabaja','contacto']]\n",
        "x.head()\n"
      ],
      "metadata": {
        "id": "hKPAZ8Zq-gbz"
      },
      "execution_count": null,
      "outputs": []
    },
    {
      "cell_type": "code",
      "source": [
        "y=datos['compro']   # or  datos.compro\n",
        "y.head()\n"
      ],
      "metadata": {
        "id": "KB6V-MsfB53I"
      },
      "execution_count": null,
      "outputs": []
    },
    {
      "cell_type": "code",
      "source": [
        "datos.shape  #saber cant records x fields\n"
      ],
      "metadata": {
        "id": "Nudflw92B56M"
      },
      "execution_count": null,
      "outputs": []
    },
    {
      "cell_type": "code",
      "source": [
        "x_train = x[:75]\n",
        "y_train = y[:75]\n",
        "x_test  = x[75:]\n",
        "y_test  = y[75:]\n"
      ],
      "metadata": {
        "id": "6NtKz8kNE5p_"
      },
      "execution_count": null,
      "outputs": []
    },
    {
      "cell_type": "code",
      "source": [
        "print(f'Entrenaremos con {len(x_train)} elementos y probaremos con {len(x_test)} elementos ')\n"
      ],
      "metadata": {
        "id": "iT3AG446FiUx"
      },
      "execution_count": null,
      "outputs": []
    },
    {
      "cell_type": "code",
      "source": [
        "# libreria sklearn\n",
        "from sklearn.svm import LinearSVC\n",
        "from sklearn.metrics import accuracy_score\n",
        "\n",
        "model=LinearSVC()\n",
        "model.fit(x_train, y_train)\n",
        "previsiones=model.predict(x_test)\n",
        "\n",
        "#LinearSVC()\n",
        "#hacer el mismo proceso con la libreria sklearn.metrics\n",
        "\n",
        "tasa_acierto=accuracy_score(y_test, previsiones)\n",
        "print(f'La tasa de acierto fue de :{round(tasa_acierto*100,2)}%' )\n"
      ],
      "metadata": {
        "colab": {
          "base_uri": "https://localhost:8080/"
        },
        "id": "Jcp5fVMeGOMR",
        "outputId": "30b9e10e-6c7b-4bb4-b7f5-3fe3b28419f6"
      },
      "execution_count": null,
      "outputs": [
        {
          "output_type": "stream",
          "name": "stdout",
          "text": [
            "La tasa de acierto fue de :95.83%\n"
          ]
        }
      ]
    },
    {
      "cell_type": "code",
      "source": [
        "#utilizacion de la libreria  sklearn.model_selection con  train_test_split\n",
        "from sklearn.model_selection import train_test_split\n",
        "# definir un estado de aletoriedad SEED=42, INCORPORA COMO parms\n",
        "SEED=42\n",
        "x_train, x_test, y_train, y_test = train_test_split(x,y,test_size=0.25,random_state=SEED)\n",
        "model=LinearSVC()\n",
        "model.fit(x_train, y_train)\n",
        "previsiones=model.predict(x_test)\n",
        "\n",
        "tasa_acierto=accuracy_score(y_test, previsiones)\n",
        "print(f'La tasa de acierto fue de :{round(tasa_acierto*100,2)}%' )\n",
        "\n"
      ],
      "metadata": {
        "colab": {
          "base_uri": "https://localhost:8080/"
        },
        "id": "Bca5UQAzJosK",
        "outputId": "b004a892-0718-4c88-e034-b1a6248ffb61"
      },
      "execution_count": null,
      "outputs": [
        {
          "output_type": "stream",
          "name": "stdout",
          "text": [
            "La tasa de acierto fue de :96.0%\n"
          ]
        }
      ]
    },
    {
      "cell_type": "code",
      "source": [
        "#utilizacion de la libreria  sklearn.model_selection con  train_test_split\n",
        "from sklearn.model_selection import train_test_split\n",
        "import random\n",
        "# definir un estado de aletoriedad SEED=42, INCORPORA COMO parms\n",
        "SEED=random.randint(1,100) #SEMILLA\n",
        "print(\"Semilla \",SEED)\n",
        "x_train, x_test, y_train, y_test = train_test_split(x,y,test_size=0.25,random_state=SEED)\n",
        "model=LinearSVC()\n",
        "model.fit(x_train, y_train)\n",
        "previsiones=model.predict(x_test)\n",
        "\n",
        "tasa_acierto=accuracy_score(y_test, previsiones)\n",
        "print(f'La tasa de acierto fue de :{round(tasa_acierto*100,2)}%' )"
      ],
      "metadata": {
        "colab": {
          "base_uri": "https://localhost:8080/"
        },
        "id": "GE7eUpt4fFp8",
        "outputId": "9b13b537-c43c-4e40-a084-283cd4bcc58a"
      },
      "execution_count": null,
      "outputs": [
        {
          "output_type": "stream",
          "name": "stdout",
          "text": [
            "Semilla  17\n",
            "La tasa de acierto fue de :96.0%\n"
          ]
        }
      ]
    },
    {
      "cell_type": "code",
      "source": [
        "#TOMAR UN estratificacion mas cercana en porcentaje para las 2 muestras,  params stratify=\n",
        "from sklearn.model_selection import train_test_split\n",
        "import random\n",
        "# definir un estado de aletoriedad SEED=42, INCORPORA COMO parms\n",
        "SEED=random.randint(1,100) #SEMILLA\n",
        "print(\"Semilla \",SEED)\n",
        "x_train, x_test, y_train, y_test = train_test_split(x,y,test_size=0.25,random_state=SEED,stratify=y)\n",
        "model=LinearSVC()\n",
        "model.fit(x_train, y_train)\n",
        "previsiones=model.predict(x_test)\n",
        "\n",
        "tasa_acierto=accuracy_score(y_test, previsiones)\n",
        "print(f'La tasa de acierto fue de :{round(tasa_acierto*100,2)}%' )"
      ],
      "metadata": {
        "colab": {
          "base_uri": "https://localhost:8080/"
        },
        "id": "6Ea_hjEvkRGV",
        "outputId": "a070dc3d-9f3a-44f4-c2db-98eaf5f3347c"
      },
      "execution_count": null,
      "outputs": [
        {
          "output_type": "stream",
          "name": "stdout",
          "text": [
            "Semilla  68\n",
            "La tasa de acierto fue de :100.0%\n"
          ]
        }
      ]
    },
    {
      "cell_type": "code",
      "source": [
        "# calcular porcentaje entre las 2 muestras\n",
        "y_train.value_counts()\n"
      ],
      "metadata": {
        "colab": {
          "base_uri": "https://localhost:8080/"
        },
        "id": "drnuAUAokRKD",
        "outputId": "1b0f7dad-7fcc-4539-d48b-7b6bb683aaef"
      },
      "execution_count": null,
      "outputs": [
        {
          "output_type": "execute_result",
          "data": {
            "text/plain": [
              "0    49\n",
              "1    25\n",
              "Name: compro, dtype: int64"
            ]
          },
          "metadata": {},
          "execution_count": 30
        }
      ]
    },
    {
      "cell_type": "code",
      "source": [
        "print(round(25/74,4)*100,'%')\n"
      ],
      "metadata": {
        "colab": {
          "base_uri": "https://localhost:8080/"
        },
        "id": "82CjxcgZlPsG",
        "outputId": "d4f39015-7e52-4bed-b39f-744d893623b6"
      },
      "execution_count": null,
      "outputs": [
        {
          "output_type": "stream",
          "name": "stdout",
          "text": [
            "33.78 %\n"
          ]
        }
      ]
    },
    {
      "cell_type": "code",
      "source": [
        "# calcular porcentaje entre las 2 muestras\n",
        "y_test.value_counts()\n"
      ],
      "metadata": {
        "colab": {
          "base_uri": "https://localhost:8080/"
        },
        "id": "M6FA6Ln7lPvP",
        "outputId": "15435891-81f2-45dd-f129-05ed9a54525f"
      },
      "execution_count": null,
      "outputs": [
        {
          "output_type": "execute_result",
          "data": {
            "text/plain": [
              "0    17\n",
              "1     8\n",
              "Name: compro, dtype: int64"
            ]
          },
          "metadata": {},
          "execution_count": 32
        }
      ]
    },
    {
      "cell_type": "code",
      "source": [
        "print(round(8/25,4)*100,'%')\n"
      ],
      "metadata": {
        "colab": {
          "base_uri": "https://localhost:8080/"
        },
        "id": "pXvDxUzbm2Rs",
        "outputId": "e02d40ec-6c15-4b44-d6bf-d7909bb6ae41"
      },
      "execution_count": null,
      "outputs": [
        {
          "output_type": "stream",
          "name": "stdout",
          "text": [
            "32.0 %\n"
          ]
        }
      ]
    },
    {
      "cell_type": "markdown",
      "source": [
        "#Aula 3: Modelo Baseline"
      ],
      "metadata": {
        "id": "sUKPSuAY7_0q"
      }
    },
    {
      "cell_type": "code",
      "source": [
        "import pandas as pd\n"
      ],
      "metadata": {
        "id": "S-DFJSOWBIvH"
      },
      "execution_count": null,
      "outputs": []
    },
    {
      "cell_type": "code",
      "source": [
        "uri='https://gist.githubusercontent.com/ahcamachod/7c55640f0d65bcbd31bb986bb599180c/raw/1b616e97a8719b3ff245fcdd68eaebdb8da38082/projects.csv'\n",
        "datos = pd.read_csv(uri)\n",
        "datos.head()\n"
      ],
      "metadata": {
        "id": "jCX2LTBJo8Fl"
      },
      "execution_count": null,
      "outputs": []
    },
    {
      "cell_type": "code",
      "source": [
        "#cambiar los nombres de las columnas\n",
        "mapa={\n",
        "    'unfinished': 'no_finalizado',\n",
        "    'expected_hours':'horas_esperadas',\n",
        "    'price':'precio'\n",
        "}\n",
        "print(mapa)\n",
        "#renombrar columnas\n",
        "datos=datos.rename(columns=mapa)\n",
        "datos.sample(5)"
      ],
      "metadata": {
        "id": "lGGwJ4CFB1hu"
      },
      "execution_count": null,
      "outputs": []
    },
    {
      "cell_type": "code",
      "source": [
        "# crear variable en el dataset, llamada finalizado con los datos contrarios a no_finalizado\n",
        "cambio={1:0, 0:1}\n",
        "datos['finalizado'] = datos.no_finalizado.map(cambio)\n",
        "datos.sample(5)\n"
      ],
      "metadata": {
        "id": "8l7ZnWC2Cut3"
      },
      "execution_count": null,
      "outputs": []
    },
    {
      "cell_type": "code",
      "source": [
        "#importar seaborn para graficar\n",
        "import seaborn as sb"
      ],
      "metadata": {
        "id": "ixH-PhfRIi7Q"
      },
      "execution_count": null,
      "outputs": []
    },
    {
      "cell_type": "code",
      "source": [
        "#crear un grafico de dispersion\n",
        "sb.scatterplot(x='horas_esperadas',y='precio',data=datos)\n"
      ],
      "metadata": {
        "id": "SMSKiZAGCuxb"
      },
      "execution_count": null,
      "outputs": []
    },
    {
      "cell_type": "code",
      "source": [
        "#crear un grafico de dispersion\n",
        "sb.scatterplot(x='horas_esperadas',y='precio',data=datos,hue='finalizado')\n"
      ],
      "metadata": {
        "id": "BN9fUMDGG1ip"
      },
      "execution_count": null,
      "outputs": []
    },
    {
      "cell_type": "code",
      "source": [
        "#crear un grafico de dispersion, graficos independientes y relativos con RELPROT\n",
        "sb.relplot(x='horas_esperadas',y='precio',hue='finalizado',data=datos,col='finalizado')\n"
      ],
      "metadata": {
        "id": "YFVEblG7IoG0"
      },
      "execution_count": null,
      "outputs": []
    },
    {
      "cell_type": "code",
      "source": [
        "#datos.head()\n",
        "x=datos[['horas_esperadas','precio']]\n",
        "y=datos.finalizado\n"
      ],
      "metadata": {
        "id": "iRrheSEW3m77"
      },
      "execution_count": null,
      "outputs": []
    },
    {
      "cell_type": "code",
      "source": [
        "# crear estado de aleatoriedad\n",
        "from sklearn.model_selection import train_test_split\n",
        "import numpy as np\n",
        "\n",
        "x=datos[['horas_esperadas','precio']]\n",
        "y=datos.finalizado\n",
        "\n",
        "SEED=42\n",
        "np.random.seed(SEED)\n",
        "x_train, x_test, y_train, y_test = train_test_split(x,y,test_size=0.25,random_state=SEED)\n",
        "print(f'Entrenaremos con {len(x_train)} elementos y probaremos con {len(x_test)} elementos ')\n",
        "\n",
        "model=LinearSVC()\n",
        "model.fit(x_train, y_train)\n",
        "previsiones=model.predict(x_test)\n",
        "tasa_acierto=accuracy_score(y_test, previsiones)\n",
        "print(f'La tasa de acierto fue de :{round(tasa_acierto*100,2)}%' )\n"
      ],
      "metadata": {
        "colab": {
          "base_uri": "https://localhost:8080/"
        },
        "id": "UwKcI-Q_4x5i",
        "outputId": "03a7cb39-15a8-47fb-f825-ea561506fc35"
      },
      "execution_count": null,
      "outputs": [
        {
          "output_type": "stream",
          "name": "stdout",
          "text": [
            "Entrenaremos con 1617 elementos y probaremos con 540 elementos \n",
            "La tasa de acierto fue de :61.48%\n"
          ]
        },
        {
          "output_type": "stream",
          "name": "stderr",
          "text": [
            "/usr/local/lib/python3.10/dist-packages/sklearn/svm/_base.py:1244: ConvergenceWarning: Liblinear failed to converge, increase the number of iterations.\n",
            "  warnings.warn(\n"
          ]
        }
      ]
    },
    {
      "cell_type": "code",
      "source": [
        "#BASE DE PREVISIONES\n",
        "base_previsiones = np.ones(540)\n",
        "tasa_de_acierto=accuracy_score(y_test, base_previsiones)\n",
        "print(f'La tasa de acierto fue de :{round(tasa_acierto*100,2)}%' )\n"
      ],
      "metadata": {
        "colab": {
          "base_uri": "https://localhost:8080/"
        },
        "id": "HnLK0GhK4x9P",
        "outputId": "873ba364-91d8-46fe-8b7d-5a529fc25df5"
      },
      "execution_count": null,
      "outputs": [
        {
          "output_type": "stream",
          "name": "stdout",
          "text": [
            "La tasa de acierto fue de :61.48%\n"
          ]
        }
      ]
    },
    {
      "cell_type": "code",
      "source": [
        "#crear grafico\n",
        "sb.scatterplot(x='horas_esperadas',y='precio',data=x_test,hue=y_test)\n"
      ],
      "metadata": {
        "id": "lvajYOO9AzdY"
      },
      "execution_count": null,
      "outputs": []
    },
    {
      "cell_type": "code",
      "source": [
        "x_min = x_test.horas_esperadas.min()\n",
        "x_max = x_test.horas_esperadas.max()\n",
        "y_min = x_test.precio.min()\n",
        "y_max = x_test.precio.max()\n"
      ],
      "metadata": {
        "id": "uJu4JvBdB_KR"
      },
      "execution_count": null,
      "outputs": []
    },
    {
      "cell_type": "code",
      "source": [
        "import numpy as np\n",
        "pixeles=100\n",
        "eje_x=np.arange(x_min, x_max, (x_max-x_min)/pixeles)\n",
        "eje_y=np.arange(y_min, y_max, (y_max-y_min)/pixeles)\n"
      ],
      "metadata": {
        "id": "MvaME_uOIFtQ"
      },
      "execution_count": null,
      "outputs": []
    },
    {
      "cell_type": "code",
      "source": [
        "xx, yy = np.meshgrid(eje_x, eje_y)\n",
        "puntos = np.c_[xx.ravel(),yy.ravel()]  #toma una matriz y la convierte en un vector\n",
        "puntos\n"
      ],
      "metadata": {
        "id": "Q8qJ3f8hJzSq"
      },
      "execution_count": null,
      "outputs": []
    },
    {
      "cell_type": "code",
      "source": [
        "# generar Z\n",
        "Z = model.predict(puntos)\n",
        "Z = Z.reshape(xx.shape)\n",
        "Z\n"
      ],
      "metadata": {
        "id": "UMjdItIpbeb-"
      },
      "execution_count": null,
      "outputs": []
    },
    {
      "cell_type": "code",
      "source": [
        "#crear grafica con lib matplotlib\n",
        "import matplotlib.pyplot as plt\n",
        "plt.contour(xx,yy,Z,alpha=0.3)\n",
        "#                                                  color     tamaño puntos\n",
        "plt.scatter(x_test.horas_esperadas, x_test.precio, c=y_test, s=2)\n"
      ],
      "metadata": {
        "id": "NnJ1RQk0efQf"
      },
      "execution_count": null,
      "outputs": []
    },
    {
      "cell_type": "markdown",
      "source": [
        "# Aula 4:Support Vector Machines y sistemas no lineales"
      ],
      "metadata": {
        "id": "R5KDU028vl6s"
      }
    },
    {
      "cell_type": "code",
      "source": [
        "# buscar en google sklearn svm, ir a support vector machines\n",
        "# modelo no lineal svc\n",
        "from sklearn.model_selection import train_test_split\n",
        "from sklearn.svm import SVC\n",
        "#import numpy as np\n",
        "\n",
        "x=datos[['horas_esperadas','precio']]\n",
        "y=datos.finalizado\n",
        "\n",
        "SEED=42\n",
        "#np.random.seed(SEED)\n",
        "x_train, x_test, y_train, y_test = train_test_split(x,y,test_size=0.25,random_state=SEED)\n",
        "print(f'Entrenaremos con {len(x_train)} elementos y probaremos con {len(x_test)} elementos ')\n",
        "\n",
        "model=SVC()\n",
        "model.fit(x_train, y_train)\n",
        "previsiones=model.predict(x_test)\n",
        "\n",
        "x_min = x_test.horas_esperadas.min()\n",
        "x_max = x_test.horas_esperadas.max()\n",
        "y_min = x_test.precio.min()\n",
        "y_max = x_test.precio.max()\n",
        "\n",
        "pixeles=100\n",
        "eje_x=np.arange(x_min, x_max, (x_max-x_min)/pixeles)\n",
        "eje_y=np.arange(y_min, y_max, (y_max-y_min)/pixeles)\n",
        "\n",
        "xx, yy = np.meshgrid(eje_x, eje_y)\n",
        "puntos = np.c_[xx.ravel(),yy.ravel()]  #toma una matriz y la convierte en un vector\n",
        "\n",
        "# generar Z\n",
        "Z = model.predict(puntos)\n",
        "Z = Z.reshape(xx.shape)\n",
        "\n",
        "plt.contour(xx,yy,Z,alpha=0.3)\n",
        "plt.scatter(x_test.horas_esperadas, x_test.precio, c=y_test, s=2)\n",
        "\n",
        "tasa_acierto=accuracy_score(y_test, previsiones)\n",
        "print(f'La tasa de acierto fue de :{round(tasa_acierto*100,2)}%' )\n"
      ],
      "metadata": {
        "id": "hkYNCPAbvukq"
      },
      "execution_count": null,
      "outputs": []
    },
    {
      "cell_type": "code",
      "source": [
        "datos.head()\n"
      ],
      "metadata": {
        "id": "gu1TOacrna7A"
      },
      "execution_count": null,
      "outputs": []
    },
    {
      "cell_type": "code",
      "source": [
        "# standard scaler = trae los datos a una misma escala\n",
        "from sklearn.model_selection import train_test_split\n",
        "from sklearn.svm import SVC\n",
        "from sklearn.preprocessing import StandardScaler\n",
        "\n",
        "x=datos[['horas_esperadas','precio']]\n",
        "y=datos.finalizado\n",
        "\n",
        "SEED=42\n",
        "#np.random.seed(SEED)\n",
        "raw_x_train, raw_x_test, y_train, y_test = train_test_split(x,y,test_size=0.25,random_state=SEED)\n",
        "print(f'Entrenaremos con {len(x_train)} elementos y probaremos con {len(x_test)} elementos ')\n",
        "\n",
        "scaler = StandardScaler()\n",
        "scaler.fit(raw_x_train)\n",
        "x_train = scaler.transform(raw_x_train)\n",
        "x_test = scaler.transform(raw_x_test)\n",
        "\n",
        "model=SVC()\n",
        "model.fit(x_train, y_train)\n",
        "previsiones=model.predict(x_test)\n",
        "\n",
        "data_x= x_test[:,0]  # toma horas_esperadas\n",
        "data_y= x_test[:,1]  # toma precio\n",
        "\n",
        "x_min = data_x.min()  #horas_esperadas\n",
        "x_max = data_x.max()\n",
        "y_min = data_y.min()  #precio\n",
        "y_max = data_y.max()\n",
        "\n",
        "pixeles=100\n",
        "eje_x=np.arange(x_min, x_max, (x_max-x_min)/pixeles)\n",
        "eje_y=np.arange(y_min, y_max, (y_max-y_min)/pixeles)\n",
        "\n",
        "xx, yy = np.meshgrid(eje_x, eje_y)\n",
        "puntos = np.c_[xx.ravel(),yy.ravel()]  #toma una matriz y la convierte en un vector\n",
        "\n",
        "# generar Z\n",
        "Z = model.predict(puntos)\n",
        "Z = Z.reshape(xx.shape)\n",
        "\n",
        "plt.contour(xx,yy,Z,alpha=0.3)\n",
        "#plt.scatter(x_test.horas_esperadas, x_test.precio, c=y_test, s=2)\n",
        "plt.scatter(data_x, data_y, c=y_test, s=2)\n",
        "\n",
        "tasa_acierto=accuracy_score(y_test, previsiones)\n",
        "print(f'La tasa de acierto fue de :{round(tasa_acierto*100,2)}%' )"
      ],
      "metadata": {
        "id": "4AgT7Kxl0DTb"
      },
      "execution_count": null,
      "outputs": []
    },
    {
      "cell_type": "markdown",
      "source": [
        "#Aula 5:Dummy Classifiers and arboles de decision"
      ],
      "metadata": {
        "id": "l711pklW_97g"
      }
    },
    {
      "cell_type": "code",
      "source": [
        "import pandas as pd\n",
        "uri='https://gist.githubusercontent.com/ahcamachod/1595316a6b37bf39baac355b081d9c3b/raw/98bc94de744764cef0e67922ddfac2a226ad6a6f/car_prices.csv'\n",
        "datos=pd.read_csv(uri)\n",
        "datos.head()\n"
      ],
      "metadata": {
        "id": "ETITTYbI0DXf"
      },
      "execution_count": null,
      "outputs": []
    },
    {
      "cell_type": "code",
      "source": [
        "#cambio de nombres en los atributos\n",
        "mapa={\"mileage_per_year\":\"millas_año\",\"model_year\":\"modelo\",\"price\":\"precio\",\"sold\":\"vendido\"}\n",
        "datos=datos.rename(columns=mapa)\n",
        "datos.sample(5)\n"
      ],
      "metadata": {
        "id": "OUdCyc7MB3BH"
      },
      "execution_count": null,
      "outputs": []
    },
    {
      "cell_type": "code",
      "source": [
        "cambio={'no':0,'yes':1}\n",
        "datos.vendido=datos.vendido.map(cambio)\n",
        "datos.head()\n"
      ],
      "metadata": {
        "id": "GU6gOTvkMVye"
      },
      "execution_count": null,
      "outputs": []
    },
    {
      "cell_type": "code",
      "source": [
        "#importar datetime, calcular años modelo\n",
        "from datetime import datetime\n",
        "actual=datetime.today().year\n",
        "datos['anios_modelo'] = actual - datos.modelo\n",
        "datos.sample(7)\n"
      ],
      "metadata": {
        "id": "l0PjoMnLNSHU"
      },
      "execution_count": null,
      "outputs": []
    },
    {
      "cell_type": "code",
      "source": [
        "#Add campo kilometraje, teniendo en cuenta las millas\n",
        "#1 milla=1.60934 km\n",
        "datos['kilometraje']=(datos.millas_año*1.60934).round(2)\n",
        "datos.head()\n"
      ],
      "metadata": {
        "id": "8uR1tbrPYUeG"
      },
      "execution_count": null,
      "outputs": []
    },
    {
      "cell_type": "code",
      "source": [
        "#eliminar columnas que no se necesiten\n",
        "#datos.head()\n",
        "#con axis=1, toma columnas\n",
        "datos=datos.drop(['Unnamed: 0','millas_año'],axis=1)\n",
        "datos.sample(5)\n"
      ],
      "metadata": {
        "id": "V34R9qFbXZjE"
      },
      "execution_count": null,
      "outputs": []
    },
    {
      "cell_type": "code",
      "source": [
        "from sklearn.model_selection import train_test_split\n",
        "from sklearn.svm import SVC\n",
        "from sklearn.preprocessing import StandardScaler\n",
        "from sklearn.metrics import accuracy_score\n",
        "\n",
        "x=datos[['modelo','kilometraje','precio']]\n",
        "y=datos.vendido\n",
        "\n",
        "SEED=42\n",
        "#np.random.seed(SEED)\n",
        "raw_x_train, raw_x_test, y_train, y_test = train_test_split(x,y,test_size=0.25,random_state=SEED)\n",
        "print(f'Entrenaremos con {len(raw_x_train)} elementos y probaremos con {len(raw_x_test)} elementos ')\n",
        "\n",
        "scaler = StandardScaler()\n",
        "scaler.fit(raw_x_train)\n",
        "x_train = scaler.transform(raw_x_train)\n",
        "x_test = scaler.transform(raw_x_test)\n",
        "\n",
        "model=SVC()\n",
        "model.fit(x_train, y_train)\n",
        "previsiones=model.predict(x_test)\n",
        "\n",
        "tasa_acierto=accuracy_score(y_test, previsiones)\n",
        "print(f'La tasa de acierto fue de :{round(tasa_acierto*100,2)}%' )"
      ],
      "metadata": {
        "id": "-o8GfrMeAQXz"
      },
      "execution_count": null,
      "outputs": []
    },
    {
      "cell_type": "code",
      "source": [
        "from sklearn.dummy import DummyClassifier\n",
        "dummy = DummyClassifier(strategy='most_frequent')\n",
        "dummy.fit(x_train,y_train)\n",
        "exactitud = dummy.score(x_test,y_test)*100\n",
        "print(f'La exactitud del clasificador Dummy most_frequent fue: {round(exactitud,2)}%')\n"
      ],
      "metadata": {
        "id": "h4sUPezJaRDy"
      },
      "execution_count": null,
      "outputs": []
    },
    {
      "cell_type": "code",
      "source": [
        "# Usando StandardScaler() y arboles de decision\n",
        "import numpy as np\n",
        "from sklearn.tree import DecisionTreeClassifier\n",
        "\n",
        "x= datos[['modelo','kilometraje', 'precio']]\n",
        "y= datos.vendido\n",
        "\n",
        "SEED = 42\n",
        "np.random.seed(SEED)\n",
        "\n",
        "raw_x_train, raw_x_test, y_train, y_test = train_test_split(x,y,test_size=0.25,stratify=y)\n",
        "print(f\"Entrenaremos con {len(raw_x_train)} elementos y probaremos con {len(raw_x_test)} elementos.\")\n",
        "\n",
        "scaler = StandardScaler()\n",
        "scaler.fit(raw_x_train)\n",
        "x_train = scaler.transform(raw_x_train)\n",
        "x_test = scaler.transform(raw_x_test)\n",
        "\n",
        "model = DecisionTreeClassifier(max_depth=3)\n",
        "model.fit(x_train,y_train)\n",
        "previsiones= model.predict(x_test)\n",
        "\n",
        "tasa_de_acierto = accuracy_score(y_test, previsiones)\n",
        "print(f'La tasa de acierto fue de: {round(tasa_de_acierto*100,2)}%')"
      ],
      "metadata": {
        "colab": {
          "base_uri": "https://localhost:8080/"
        },
        "id": "S6FsEHNNaoDj",
        "outputId": "8762183a-f601-464b-ca9a-ca1885f5ac40"
      },
      "execution_count": null,
      "outputs": [
        {
          "output_type": "stream",
          "name": "stdout",
          "text": [
            "Entrenaremos con 7500 elementos y probaremos con 2500 elementos.\n",
            "La tasa de acierto fue de: 78.04%\n"
          ]
        }
      ]
    },
    {
      "cell_type": "code",
      "source": [
        "# Sin estandarizar\n",
        "from sklearn.tree import DecisionTreeClassifier\n",
        "\n",
        "x= datos[['modelo','kilometraje', 'precio']]\n",
        "y= datos.vendido\n",
        "\n",
        "SEED = 42\n",
        "np.random.seed(SEED)\n",
        "\n",
        "x_train, x_test, y_train, y_test = train_test_split(x,y,test_size=0.25,stratify=y)\n",
        "print(f\"Entrenaremos con {len(x_train)} elementos y probaremos con {len(x_test)} elementos.\")\n",
        "\n",
        "model = DecisionTreeClassifier(max_depth=3)   #depth=profundidad\n",
        "model.fit(x_train,y_train)\n",
        "previsiones= model.predict(x_test)\n",
        "\n",
        "tasa_de_acierto = accuracy_score(y_test, previsiones)\n",
        "print(f'La tasa de acierto fue de: {round(tasa_de_acierto*100,2)}%')"
      ],
      "metadata": {
        "colab": {
          "base_uri": "https://localhost:8080/"
        },
        "id": "HUh7wpRgb-fL",
        "outputId": "bdbe417e-f08b-46f0-b00c-e70099b65029"
      },
      "execution_count": null,
      "outputs": [
        {
          "output_type": "stream",
          "name": "stdout",
          "text": [
            "Entrenaremos con 7500 elementos y probaremos con 2500 elementos.\n",
            "La tasa de acierto fue de: 78.04%\n"
          ]
        }
      ]
    },
    {
      "cell_type": "code",
      "source": [
        "from sklearn.tree import export_graphviz\n",
        "import graphviz\n",
        "features = x.columns\n",
        "dot_data = export_graphviz(model, feature_names=features, filled=True, rounded=True, class_names=['No','Sí'])\n",
        "grafico = graphviz.Source(dot_data)\n",
        "grafico"
      ],
      "metadata": {
        "id": "449_rGgKzl-M"
      },
      "execution_count": null,
      "outputs": []
    },
    {
      "cell_type": "code",
      "source": [
        "#FIN 24.01.2024"
      ],
      "metadata": {
        "id": "2bfkt4RV1tjS"
      },
      "execution_count": null,
      "outputs": []
    }
  ]
}